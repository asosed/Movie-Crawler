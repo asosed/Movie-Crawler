{
 "metadata": {
  "language_info": {
   "codemirror_mode": {
    "name": "ipython",
    "version": 3
   },
   "file_extension": ".py",
   "mimetype": "text/x-python",
   "name": "python",
   "nbconvert_exporter": "python",
   "pygments_lexer": "ipython3",
   "version": "3.9.4"
  },
  "orig_nbformat": 2,
  "kernelspec": {
   "name": "python394jvsc74a57bd09d2090511758b97937b1203b20585d7813cc9b54a8d42a83893b6e697f37f80e",
   "display_name": "Python 3.9.4 64-bit ('scrapy': conda)"
  }
 },
 "nbformat": 4,
 "nbformat_minor": 2,
 "cells": [
  {
   "cell_type": "code",
   "execution_count": 4,
   "metadata": {},
   "outputs": [],
   "source": [
    "import re\n",
    "import pandas as pd\n",
    "from pyhere import here "
   ]
  },
  {
   "cell_type": "code",
   "execution_count": 13,
   "metadata": {},
   "outputs": [
    {
     "output_type": "stream",
     "name": "stdout",
     "text": [
      "/home/asosed/Projects/Movie-Crawler/data/raw\n"
     ]
    }
   ],
   "source": [
    "cd ../data/raw/"
   ]
  },
  {
   "cell_type": "code",
   "execution_count": 15,
   "metadata": {},
   "outputs": [],
   "source": [
    "# Load the data\n",
    "df = pd.read_csv('top250_imdb.csv')"
   ]
  },
  {
   "cell_type": "code",
   "execution_count": 16,
   "metadata": {},
   "outputs": [],
   "source": [
    "# Order by rating\n",
    "df.sort_values('rating', ascending=False, inplace=True)\n",
    "df.reset_index(inplace=True, drop=True)"
   ]
  },
  {
   "cell_type": "code",
   "execution_count": 17,
   "metadata": {},
   "outputs": [
    {
     "output_type": "execute_result",
     "data": {
      "text/plain": [
       "149        26 January 2006 (USA)\n",
       "125       16 November 2018 (USA)\n",
       "116      31 August 1931 (Sweden)\n",
       "65        19 December 1997 (USA)\n",
       "113       15 December 2000 (USA)\n",
       "89        26 February 2021 (USA)\n",
       "225        10 October 1980 (USA)\n",
       "18        19 November 1956 (USA)\n",
       "105    17 October 1985 (Hungary)\n",
       "123           15 June 2005 (USA)\n",
       "76            13 June 1980 (USA)\n",
       "60        26 November 1963 (USA)\n",
       "57      25 December 2009 (India)\n",
       "152           31 July 2015 (USA)\n",
       "172           13 July 1990 (USA)\n",
       "231       23 February 1979 (USA)\n",
       "219        17 January 1940 (USA)\n",
       "248       25 February 1994 (USA)\n",
       "207         22 August 1986 (USA)\n",
       "2            10 April 1957 (USA)\n",
       "Name: release_date, dtype: object"
      ]
     },
     "metadata": {},
     "execution_count": 17
    }
   ],
   "source": [
    "df['release_date'].sample(20)"
   ]
  },
  {
   "cell_type": "code",
   "execution_count": 18,
   "metadata": {},
   "outputs": [],
   "source": [
    "# Remove country on release date\n",
    "df['release_date'] = df['release_date'] \\\n",
    "                     .apply(lambda s: re.sub(' \\([\\w]+ ?[\\w]+\\)$', '', s))"
   ]
  },
  {
   "cell_type": "code",
   "execution_count": 19,
   "metadata": {},
   "outputs": [],
   "source": [
    "# Parse release date\n",
    "df['release_date'] = pd.to_datetime(df['release_date'],\n",
    "                                    format='%d %B %Y',\n",
    "                                    infer_datetime_format=True)"
   ]
  },
  {
   "cell_type": "code",
   "execution_count": 20,
   "metadata": {},
   "outputs": [],
   "source": [
    "df.drop('year_release', axis=1, inplace=True)"
   ]
  },
  {
   "cell_type": "code",
   "execution_count": 21,
   "metadata": {},
   "outputs": [],
   "source": [
    "# Completing the link to poster movie\n",
    "df['poster'] = df['poster'].apply(lambda l: 'https://www.imdb.com' + l)"
   ]
  },
  {
   "cell_type": "code",
   "execution_count": 29,
   "metadata": {},
   "outputs": [
    {
     "output_type": "stream",
     "name": "stdout",
     "text": [
      "/home/asosed/Projects/Movie-Crawler/data/interim\n"
     ]
    }
   ],
   "source": [
    "cd ../interim/"
   ]
  },
  {
   "cell_type": "code",
   "execution_count": 30,
   "metadata": {},
   "outputs": [],
   "source": [
    "df.to_csv('top250_imdb.csv')"
   ]
  }
 ]
}